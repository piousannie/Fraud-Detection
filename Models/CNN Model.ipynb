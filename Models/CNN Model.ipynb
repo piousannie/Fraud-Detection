{
 "cells": [
  {
   "cell_type": "code",
   "execution_count": 1,
   "id": "33e24b52",
   "metadata": {},
   "outputs": [],
   "source": [
    "import tensorflow as tf\n",
    "from tensorflow import keras\n",
    "from tensorflow.keras import Sequential\n",
    "from tensorflow.keras.layers import Flatten, Dense, Dropout, BatchNormalization\n",
    "from tensorflow.keras.layers import Conv1D, MaxPool1D\n",
    "from tensorflow.keras.optimizers import Adam"
   ]
  },
  {
   "cell_type": "code",
   "execution_count": 2,
   "id": "05b57ce5",
   "metadata": {},
   "outputs": [],
   "source": [
    "import pandas as pd\n",
    "import numpy as np\n",
    "import matplotlib.pyplot as plt\n",
    "from sklearn.model_selection import train_test_split\n",
    "from sklearn.preprocessing import StandardScaler"
   ]
  },
  {
   "cell_type": "code",
   "execution_count": 3,
   "id": "1ddedba2",
   "metadata": {},
   "outputs": [],
   "source": [
    "# General\n",
    "import os\n",
    "import math\n",
    "import sys\n",
    "import time\n",
    "import pickle\n",
    "import json\n",
    "import datetime\n",
    "import random\n",
    "import seaborn as sns\n",
    "\n",
    "#import sklearn\n",
    "import sklearn\n",
    "from sklearn import *\n",
    "\n",
    "#import matplotlib\n",
    "import matplotlib.pyplot as plt\n",
    "%matplotlib inline"
   ]
  },
  {
   "cell_type": "markdown",
   "id": "ca101506",
   "metadata": {},
   "source": [
    "## Load Dataset\n"
   ]
  },
  {
   "cell_type": "code",
   "execution_count": 4,
   "id": "8f52404b",
   "metadata": {},
   "outputs": [],
   "source": [
    "# Load a set of pickle files, put them together in a single DataFrame, and order them by time\n",
    "# It takes as input the folder DIR_INPUT where the files are stored, and the BEGIN_DATE and END_DATE\n",
    "def read_from_files(DIR_INPUT, BEGIN_DATE, END_DATE):\n",
    "    \n",
    "    files = [os.path.join(DIR_INPUT, f) for f in os.listdir(DIR_INPUT) if f>=BEGIN_DATE+'.pkl' and f<=END_DATE+'.pkl']\n",
    "\n",
    "    frames = []\n",
    "    for f in files:\n",
    "        df = pd.read_pickle(f)\n",
    "        frames.append(df)\n",
    "        del df\n",
    "    df_final = pd.concat(frames)\n",
    "    \n",
    "    df_final=df_final.sort_values('TRANSACTION_ID')\n",
    "    df_final.reset_index(drop=True,inplace=True)\n",
    "    #  Note: -1 are missing values for real world data \n",
    "    df_final=df_final.replace([-1],0)\n",
    "    \n",
    "    return df_final"
   ]
  },
  {
   "cell_type": "code",
   "execution_count": 5,
   "id": "72534ced",
   "metadata": {},
   "outputs": [
    {
     "name": "stdout",
     "output_type": "stream",
     "text": [
      "Load  files\n",
      "Wall time: 1.72 s\n",
      "1754155 transactions loaded, containing 14681 fraudulent transactions\n"
     ]
    }
   ],
   "source": [
    "DIR_INPUT='../simulated-data-transformed/data/' \n",
    "\n",
    "BEGIN_DATE = \"2018-04-01\"\n",
    "END_DATE = \"2018-09-30\"\n",
    "\n",
    "print(\"Load  files\")\n",
    "%time transactions_df=read_from_files(DIR_INPUT, BEGIN_DATE, END_DATE)\n",
    "print(\"{0} transactions loaded, containing {1} fraudulent transactions\".format(len(transactions_df),transactions_df.TX_FRAUD.sum()))"
   ]
  },
  {
   "cell_type": "code",
   "execution_count": 6,
   "id": "88ac1244",
   "metadata": {
    "scrolled": true
   },
   "outputs": [
    {
     "data": {
      "text/plain": [
       "(1754155, 23)"
      ]
     },
     "execution_count": 6,
     "metadata": {},
     "output_type": "execute_result"
    }
   ],
   "source": [
    "transactions_df.shape"
   ]
  },
  {
   "cell_type": "code",
   "execution_count": 7,
   "id": "1c7c12c7",
   "metadata": {},
   "outputs": [
    {
     "name": "stdout",
     "output_type": "stream",
     "text": [
      "(1754155, 20)\n",
      "(1754155,)\n"
     ]
    }
   ],
   "source": [
    "# dividing the X and the Y from the dataset\n",
    "X = transactions_df.drop(['TX_FRAUD'], axis = 1)\n",
    "Y = transactions_df[\"TX_FRAUD\"]\n",
    "X=X.drop(['TX_DATETIME'],axis=1)\n",
    "X=X.drop(['TX_FRAUD_SCENARIO'],axis=1)\n",
    "print(X.shape)\n",
    "print(Y.shape)\n",
    "# getting just the values for the sake of processing \n",
    "# (its a numpy array with no columns)\n",
    "xData = X.values\n",
    "yData = Y.values"
   ]
  },
  {
   "cell_type": "markdown",
   "id": "a9ae2557",
   "metadata": {},
   "source": [
    "## Balance Dataset\n"
   ]
  },
  {
   "cell_type": "code",
   "execution_count": 8,
   "id": "549f57fc",
   "metadata": {},
   "outputs": [
    {
     "data": {
      "image/png": "[encoded data removed]",
      "text/plain": [
       "<Figure size 432x288 with 1 Axes>"
      ]
     },
     "metadata": {},
     "output_type": "display_data"
    }
   ],
   "source": [
    "# Random Undersampling \n",
    "from imblearn.under_sampling import RandomUnderSampler\n",
    "rus = RandomUnderSampler(sampling_strategy=1) # Numerical value\n",
    "# rus = RandomUnderSampler(sampling_strategy=\"not minority\") # String\n",
    "X_res, y_res = rus.fit_resample(X, Y)\n",
    "ax = y_res.value_counts().plot.pie(autopct='%.2f')\n",
    "_ = ax.set_title(\"Under-sampling\")"
   ]
  },
  {
   "cell_type": "code",
   "execution_count": 9,
   "id": "4a02dcb3",
   "metadata": {},
   "outputs": [
    {
     "data": {
      "text/plain": [
       "TX_FRAUD\n",
       "0    14681\n",
       "1    14681\n",
       "Name: count, dtype: int64"
      ]
     },
     "execution_count": 9,
     "metadata": {},
     "output_type": "execute_result"
    }
   ],
   "source": [
    "#class distribution\n",
    "y_res.value_counts()"
   ]
  },
  {
   "cell_type": "markdown",
   "id": "d7b1ba11",
   "metadata": {},
   "source": [
    "## Train-Test Split\n"
   ]
  },
  {
   "cell_type": "code",
   "execution_count": 10,
   "id": "7fc63f93",
   "metadata": {},
   "outputs": [],
   "source": [
    "# Using Scikit-learn to split data into training and testing sets\n",
    "from sklearn.model_selection import train_test_split\n",
    "# Split the data into training and testing sets\n",
    "xTrain, xTest, yTrain, yTest = train_test_split(\n",
    "        X_res, y_res, test_size = 0.2)"
   ]
  },
  {
   "cell_type": "markdown",
   "id": "874bbdc7",
   "metadata": {},
   "source": [
    "## Scaling and Reshaping"
   ]
  },
  {
   "cell_type": "code",
   "execution_count": 11,
   "id": "86aca7a6",
   "metadata": {},
   "outputs": [],
   "source": [
    "# Now we are going to get the bring the data into the same range. \n",
    "# StandardScaler() standardizes the features by removing the mean and scaling to unit variance. \n",
    "# We will fit scaler only to the training dataset but we will tranform both the training as well as the testing dataset."
   ]
  },
  {
   "cell_type": "code",
   "execution_count": 12,
   "id": "f8f73711",
   "metadata": {},
   "outputs": [
    {
     "data": {
      "text/plain": [
       "(23489, 20)"
      ]
     },
     "execution_count": 12,
     "metadata": {},
     "output_type": "execute_result"
    }
   ],
   "source": [
    "scaler = StandardScaler()\n",
    "xTrain = scaler.fit_transform(xTrain)\n",
    "XTest = scaler.fit_transform(xTest)\n",
    "\n",
    "yTrain = yTrain.to_numpy()\n",
    "yTest = yTest.to_numpy()\n",
    "\n",
    "xTrain.shape"
   ]
  },
  {
   "cell_type": "code",
   "execution_count": 13,
   "id": "5c134ae0",
   "metadata": {},
   "outputs": [],
   "source": [
    "# Our data is 2 dimensional but neural networks accept 3 dimensional data. So we have to reshape() the data."
   ]
  },
  {
   "cell_type": "code",
   "execution_count": 14,
   "id": "2c58b1ef",
   "metadata": {},
   "outputs": [
    {
     "data": {
      "text/plain": [
       "((23489, 20, 1), (5873, 20, 1))"
      ]
     },
     "execution_count": 14,
     "metadata": {},
     "output_type": "execute_result"
    }
   ],
   "source": [
    "xTrain = xTrain.reshape(xTrain.shape[0], xTrain.shape[1], 1)\n",
    "xTest = xTest.values.reshape(xTest.shape[0], xTest.shape[1], 1)\n",
    "\n",
    "xTrain.shape, xTest.shape"
   ]
  },
  {
   "cell_type": "markdown",
   "id": "db6f7461",
   "metadata": {},
   "source": [
    "## Build a CNN"
   ]
  },
  {
   "cell_type": "code",
   "execution_count": 15,
   "id": "32602b18",
   "metadata": {},
   "outputs": [],
   "source": [
    "# A Sequential() model is appropriate for a plain stack of layers where each layer has exactly one input tensor and one output tensor.\n",
    "\n",
    "# Conv1D() is a 1D Convolution Layer, this layer is very effective for deriving features from a fixed-length segment of the overall dataset, where it is not so important where the feature is located in the segment. \n",
    "# In the first Conv1D() layer we are learning a total of 20 filters with size of convolutional window as 2. The input_shape specifies the shape of the input. It is a necessary parameter for the first layer in any neural network. \n",
    "# We will be using ReLu activation function. The rectified linear activation function or ReLU for short is a piecewise linear function that will output the input directly if it is positive, otherwise, it will output zero."
   ]
  },
  {
   "cell_type": "code",
   "execution_count": 24,
   "id": "deef1868",
   "metadata": {},
   "outputs": [],
   "source": [
    "epochs = 20\n",
    "model = Sequential()\n",
    "model.add(Conv1D(20, 2, activation='relu', input_shape = xTrain[0].shape))\n",
    "model.add(BatchNormalization())\n",
    "model.add(Dropout(0.2))\n",
    "\n",
    "model.add(Conv1D(40, 2, activation='relu'))\n",
    "model.add(BatchNormalization())\n",
    "model.add(Dropout(0.5))\n",
    "\n",
    "model.add(Flatten())\n",
    "model.add(Dense(40, activation='relu'))\n",
    "model.add(Dropout(0.5))\n",
    "\n",
    "model.add(Dense(1, activation='sigmoid'))"
   ]
  },
  {
   "cell_type": "code",
   "execution_count": 25,
   "id": "4e15231f",
   "metadata": {},
   "outputs": [
    {
     "name": "stdout",
     "output_type": "stream",
     "text": [
      "Model: \"sequential_2\"\n",
      "_________________________________________________________________\n",
      " Layer (type)                Output Shape              Param #   \n",
      "=================================================================\n",
      " conv1d_4 (Conv1D)           (None, 19, 20)            60        \n",
      "                                                                 \n",
      " batch_normalization_4 (Batc  (None, 19, 20)           80        \n",
      " hNormalization)                                                 \n",
      "                                                                 \n",
      " dropout_6 (Dropout)         (None, 19, 20)            0         \n",
      "                                                                 \n",
      " conv1d_5 (Conv1D)           (None, 18, 40)            1640      \n",
      "                                                                 \n",
      " batch_normalization_5 (Batc  (None, 18, 40)           160       \n",
      " hNormalization)                                                 \n",
      "                                                                 \n",
      " dropout_7 (Dropout)         (None, 18, 40)            0         \n",
      "                                                                 \n",
      " flatten_2 (Flatten)         (None, 720)               0         \n",
      "                                                                 \n",
      " dense_4 (Dense)             (None, 40)                28840     \n",
      "                                                                 \n",
      " dropout_8 (Dropout)         (None, 40)                0         \n",
      "                                                                 \n",
      " dense_5 (Dense)             (None, 1)                 41        \n",
      "                                                                 \n",
      "=================================================================\n",
      "Total params: 30,821\n",
      "Trainable params: 30,701\n",
      "Non-trainable params: 120\n",
      "_________________________________________________________________\n"
     ]
    }
   ],
   "source": [
    "model.summary()"
   ]
  },
  {
   "cell_type": "code",
   "execution_count": 26,
   "id": "8c1f21c2",
   "metadata": {},
   "outputs": [],
   "source": [
    "# Now we will compile and fit the model. We are using Adam optimizer with 0.00001 learning rate.\n",
    "# We will use 20 epochs to train the model. \n",
    "# An epoch is an iteration over the entire data provided.validation_data is the data on which to evaluate the loss and any model metrics at the end of each epoch."
   ]
  },
  {
   "cell_type": "code",
   "execution_count": 27,
   "id": "5eb53b5e",
   "metadata": {},
   "outputs": [
    {
     "name": "stderr",
     "output_type": "stream",
     "text": [
      "WARNING:absl:`lr` is deprecated in Keras optimizer, please use `learning_rate` or use the legacy optimizer, e.g.,tf.keras.optimizers.legacy.Adam.\n"
     ]
    }
   ],
   "source": [
    "model.compile(optimizer=Adam(lr=0.0001), loss = 'binary_crossentropy', metrics=['accuracy'])"
   ]
  },
  {
   "cell_type": "code",
   "execution_count": 28,
   "id": "b62a2760",
   "metadata": {},
   "outputs": [
    {
     "name": "stdout",
     "output_type": "stream",
     "text": [
      "Epoch 1/20\n",
      "735/735 [==============================] - 6s 6ms/step - loss: 0.4749 - accuracy: 0.7928 - val_loss: 2563763.0000 - val_accuracy: 0.5069\n",
      "Epoch 2/20\n",
      "735/735 [==============================] - 4s 6ms/step - loss: 0.3961 - accuracy: 0.8294 - val_loss: 3436100.5000 - val_accuracy: 0.5069\n",
      "Epoch 3/20\n",
      "735/735 [==============================] - 4s 6ms/step - loss: 0.3822 - accuracy: 0.8375 - val_loss: 3590211.0000 - val_accuracy: 0.5069\n",
      "Epoch 4/20\n",
      "735/735 [==============================] - 4s 5ms/step - loss: 0.3754 - accuracy: 0.8429 - val_loss: 5095521.5000 - val_accuracy: 0.5069\n",
      "Epoch 5/20\n",
      "735/735 [==============================] - 5s 7ms/step - loss: 0.3733 - accuracy: 0.8470 - val_loss: 5218701.0000 - val_accuracy: 0.5069\n",
      "Epoch 6/20\n",
      "735/735 [==============================] - 5s 7ms/step - loss: 0.3627 - accuracy: 0.8499 - val_loss: 4241117.0000 - val_accuracy: 0.5069\n",
      "Epoch 7/20\n",
      "735/735 [==============================] - 5s 7ms/step - loss: 0.3596 - accuracy: 0.8526 - val_loss: 5933220.0000 - val_accuracy: 0.5069\n",
      "Epoch 8/20\n",
      "735/735 [==============================] - 5s 7ms/step - loss: 0.3547 - accuracy: 0.8553 - val_loss: 3811996.2500 - val_accuracy: 0.5069\n",
      "Epoch 9/20\n",
      "735/735 [==============================] - 5s 6ms/step - loss: 0.3548 - accuracy: 0.8553 - val_loss: 6572211.0000 - val_accuracy: 0.5069\n",
      "Epoch 10/20\n",
      "735/735 [==============================] - 4s 6ms/step - loss: 0.3537 - accuracy: 0.8580 - val_loss: 5030457.5000 - val_accuracy: 0.5069\n",
      "Epoch 11/20\n",
      "735/735 [==============================] - 4s 6ms/step - loss: 0.3500 - accuracy: 0.8578 - val_loss: 7082146.5000 - val_accuracy: 0.5069\n",
      "Epoch 12/20\n",
      "735/735 [==============================] - 4s 6ms/step - loss: 0.3506 - accuracy: 0.8585 - val_loss: 4210178.0000 - val_accuracy: 0.5069\n",
      "Epoch 13/20\n",
      "735/735 [==============================] - 5s 6ms/step - loss: 0.3493 - accuracy: 0.8598 - val_loss: 5644503.5000 - val_accuracy: 0.5069\n",
      "Epoch 14/20\n",
      "735/735 [==============================] - 5s 6ms/step - loss: 0.3476 - accuracy: 0.8602 - val_loss: 4372007.0000 - val_accuracy: 0.5069\n",
      "Epoch 15/20\n",
      "735/735 [==============================] - 5s 6ms/step - loss: 0.3485 - accuracy: 0.8589 - val_loss: 4141797.0000 - val_accuracy: 0.5069\n",
      "Epoch 16/20\n",
      "735/735 [==============================] - 5s 6ms/step - loss: 0.3462 - accuracy: 0.8608 - val_loss: 4234723.0000 - val_accuracy: 0.5069\n",
      "Epoch 17/20\n",
      "735/735 [==============================] - 5s 6ms/step - loss: 0.3485 - accuracy: 0.8584 - val_loss: 3937043.0000 - val_accuracy: 0.5069\n",
      "Epoch 18/20\n",
      "735/735 [==============================] - 5s 6ms/step - loss: 0.3447 - accuracy: 0.8611 - val_loss: 4744653.0000 - val_accuracy: 0.5069\n",
      "Epoch 19/20\n",
      "735/735 [==============================] - 5s 6ms/step - loss: 0.3461 - accuracy: 0.8598 - val_loss: 4711956.5000 - val_accuracy: 0.5069\n",
      "Epoch 20/20\n",
      "735/735 [==============================] - 5s 6ms/step - loss: 0.3418 - accuracy: 0.8630 - val_loss: 4819196.5000 - val_accuracy: 0.5069\n"
     ]
    }
   ],
   "source": [
    "history = model.fit(xTrain, yTrain, epochs=epochs, validation_data=(xTest, yTest), verbose=1, shuffle=True)"
   ]
  },
  {
   "cell_type": "markdown",
   "id": "4bf47390",
   "metadata": {},
   "source": [
    "## Visualizing "
   ]
  },
  {
   "cell_type": "code",
   "execution_count": 29,
   "id": "acbea5f9",
   "metadata": {},
   "outputs": [],
   "source": [
    "def plot_learningCurve(history, epoch):\n",
    "  # Plot training & validation accuracy values\n",
    "  epoch_range = range(1, epoch+1)\n",
    "  plt.plot(epoch_range, history.history['accuracy'])\n",
    "  plt.plot(epoch_range, history.history['val_accuracy'])\n",
    "  plt.title('Model accuracy')\n",
    "  plt.ylabel('Accuracy')\n",
    "  plt.xlabel('Epoch')\n",
    "  plt.legend(['Train', 'Val'], loc='upper left')\n",
    "  plt.show()\n",
    "\n",
    "  # Plot training & validation loss values\n",
    "  plt.plot(epoch_range, history.history['loss'])\n",
    "  plt.plot(epoch_range, history.history['val_loss'])\n",
    "  plt.title('Model loss')\n",
    "  plt.ylabel('Loss')\n",
    "  plt.xlabel('Epoch')\n",
    "  plt.legend(['Train', 'Val'], loc='upper left')\n",
    "  plt.show()"
   ]
  },
  {
   "cell_type": "code",
   "execution_count": 30,
   "id": "40722725",
   "metadata": {},
   "outputs": [
    {
     "data": {
      "image/png": "[encoded data removed]",
      "text/plain": [
       "<Figure size 432x288 with 1 Axes>"
      ]
     },
     "metadata": {
      "needs_background": "light"
     },
     "output_type": "display_data"
    },
    {
     "data": {
      "image/png": "[encoded data removed]",
      "text/plain": [
       "<Figure size 432x288 with 1 Axes>"
      ]
     },
     "metadata": {
      "needs_background": "light"
     },
     "output_type": "display_data"
    }
   ],
   "source": [
    "plot_learningCurve(history, epochs)"
   ]
  },
  {
   "cell_type": "code",
   "execution_count": 33,
   "id": "4113ff61",
   "metadata": {},
   "outputs": [],
   "source": [
    "# We can see that the training accuracy is higher than the validation accuracy. So we can say that they model is overfitting. \n",
    "# We can add a MaxPool layer and increase the nuber of epochs to improve our accuracy."
   ]
  },
  {
   "cell_type": "markdown",
   "id": "8863ff35",
   "metadata": {},
   "source": [
    "## Adding Maxpool Layer"
   ]
  },
  {
   "cell_type": "code",
   "execution_count": 31,
   "id": "f4bee31c",
   "metadata": {},
   "outputs": [
    {
     "name": "stderr",
     "output_type": "stream",
     "text": [
      "WARNING:absl:`lr` is deprecated in Keras optimizer, please use `learning_rate` or use the legacy optimizer, e.g.,tf.keras.optimizers.legacy.Adam.\n"
     ]
    },
    {
     "name": "stdout",
     "output_type": "stream",
     "text": [
      "Epoch 1/50\n",
      "735/735 [==============================] - 5s 5ms/step - loss: 0.5678 - accuracy: 0.7303 - val_loss: 608597.1250 - val_accuracy: 0.4929\n",
      "Epoch 2/50\n",
      "735/735 [==============================] - 4s 5ms/step - loss: 0.4512 - accuracy: 0.7935 - val_loss: 380707.3438 - val_accuracy: 0.4929\n",
      "Epoch 3/50\n",
      "735/735 [==============================] - 4s 5ms/step - loss: 0.4324 - accuracy: 0.8078 - val_loss: 396328.4375 - val_accuracy: 0.4929\n",
      "Epoch 4/50\n",
      "735/735 [==============================] - 4s 5ms/step - loss: 0.4165 - accuracy: 0.8161 - val_loss: 388994.9062 - val_accuracy: 0.4929\n",
      "Epoch 5/50\n",
      "735/735 [==============================] - 4s 5ms/step - loss: 0.4121 - accuracy: 0.8206 - val_loss: 573749.9375 - val_accuracy: 0.4929\n",
      "Epoch 6/50\n",
      "735/735 [==============================] - 4s 5ms/step - loss: 0.3980 - accuracy: 0.8292 - val_loss: 107538.0312 - val_accuracy: 0.4907\n",
      "Epoch 7/50\n",
      "735/735 [==============================] - 4s 6ms/step - loss: 0.3954 - accuracy: 0.8295 - val_loss: 225677.6406 - val_accuracy: 0.4929\n",
      "Epoch 8/50\n",
      "735/735 [==============================] - 4s 5ms/step - loss: 0.3966 - accuracy: 0.8329 - val_loss: 306921.7812 - val_accuracy: 0.4929\n",
      "Epoch 9/50\n",
      "735/735 [==============================] - 4s 6ms/step - loss: 0.3924 - accuracy: 0.8326 - val_loss: 230328.2031 - val_accuracy: 0.4929\n",
      "Epoch 10/50\n",
      "735/735 [==============================] - 4s 5ms/step - loss: 0.3881 - accuracy: 0.8341 - val_loss: 167841.6250 - val_accuracy: 0.4929\n",
      "Epoch 11/50\n",
      "735/735 [==============================] - 4s 6ms/step - loss: 0.3854 - accuracy: 0.8371 - val_loss: 230073.0625 - val_accuracy: 0.4928\n",
      "Epoch 12/50\n",
      "735/735 [==============================] - 4s 5ms/step - loss: 0.3816 - accuracy: 0.8392 - val_loss: 101414.9609 - val_accuracy: 0.4917\n",
      "Epoch 13/50\n",
      "735/735 [==============================] - 4s 6ms/step - loss: 0.3799 - accuracy: 0.8391 - val_loss: 163090.0625 - val_accuracy: 0.4928\n",
      "Epoch 14/50\n",
      "735/735 [==============================] - 4s 5ms/step - loss: 0.3805 - accuracy: 0.8418 - val_loss: 141991.4219 - val_accuracy: 0.5069\n",
      "Epoch 15/50\n",
      "735/735 [==============================] - 4s 6ms/step - loss: 0.3760 - accuracy: 0.8434 - val_loss: 175080.9062 - val_accuracy: 0.5069\n",
      "Epoch 16/50\n",
      "735/735 [==============================] - 4s 5ms/step - loss: 0.3787 - accuracy: 0.8420 - val_loss: 159236.0156 - val_accuracy: 0.5069\n",
      "Epoch 17/50\n",
      "735/735 [==============================] - 4s 6ms/step - loss: 0.3756 - accuracy: 0.8436 - val_loss: 564502.5000 - val_accuracy: 0.5069\n",
      "Epoch 18/50\n",
      "735/735 [==============================] - 4s 6ms/step - loss: 0.3732 - accuracy: 0.8438 - val_loss: 260029.0000 - val_accuracy: 0.5069\n",
      "Epoch 19/50\n",
      "735/735 [==============================] - 4s 5ms/step - loss: 0.3755 - accuracy: 0.8428 - val_loss: 28988.3418 - val_accuracy: 0.4871\n",
      "Epoch 20/50\n",
      "735/735 [==============================] - 4s 6ms/step - loss: 0.3724 - accuracy: 0.8440 - val_loss: 92016.9062 - val_accuracy: 0.4924\n",
      "Epoch 21/50\n",
      "735/735 [==============================] - 4s 5ms/step - loss: 0.3725 - accuracy: 0.8454 - val_loss: 44922.4219 - val_accuracy: 0.5069\n",
      "Epoch 22/50\n",
      "735/735 [==============================] - 4s 6ms/step - loss: 0.3706 - accuracy: 0.8457 - val_loss: 76752.6641 - val_accuracy: 0.4907\n",
      "Epoch 23/50\n",
      "735/735 [==============================] - 4s 5ms/step - loss: 0.3765 - accuracy: 0.8429 - val_loss: 137101.2969 - val_accuracy: 0.5069\n",
      "Epoch 24/50\n",
      "735/735 [==============================] - 5s 6ms/step - loss: 0.3726 - accuracy: 0.8457 - val_loss: 373681.9688 - val_accuracy: 0.5069\n",
      "Epoch 25/50\n",
      "735/735 [==============================] - 4s 5ms/step - loss: 0.3705 - accuracy: 0.8461 - val_loss: 222531.1094 - val_accuracy: 0.5069\n",
      "Epoch 26/50\n",
      "735/735 [==============================] - 4s 6ms/step - loss: 0.3694 - accuracy: 0.8486 - val_loss: 418630.7812 - val_accuracy: 0.5069\n",
      "Epoch 27/50\n",
      "735/735 [==============================] - 4s 5ms/step - loss: 0.3701 - accuracy: 0.8449 - val_loss: 250382.5156 - val_accuracy: 0.5069\n",
      "Epoch 28/50\n",
      "735/735 [==============================] - 5s 6ms/step - loss: 0.3696 - accuracy: 0.8472 - val_loss: 189105.2812 - val_accuracy: 0.5069\n",
      "Epoch 29/50\n",
      "735/735 [==============================] - 4s 5ms/step - loss: 0.3681 - accuracy: 0.8475 - val_loss: 417197.7812 - val_accuracy: 0.5069\n",
      "Epoch 30/50\n",
      "735/735 [==============================] - 4s 6ms/step - loss: 0.3697 - accuracy: 0.8480 - val_loss: 171053.2812 - val_accuracy: 0.5069\n",
      "Epoch 31/50\n",
      "735/735 [==============================] - 4s 5ms/step - loss: 0.3672 - accuracy: 0.8471 - val_loss: 618326.6250 - val_accuracy: 0.5069\n",
      "Epoch 32/50\n",
      "735/735 [==============================] - 5s 6ms/step - loss: 0.3653 - accuracy: 0.8498 - val_loss: 262715.5938 - val_accuracy: 0.5069\n",
      "Epoch 33/50\n",
      "735/735 [==============================] - 4s 6ms/step - loss: 0.3636 - accuracy: 0.8490 - val_loss: 150647.0625 - val_accuracy: 0.5069\n",
      "Epoch 34/50\n",
      "735/735 [==============================] - 4s 6ms/step - loss: 0.3652 - accuracy: 0.8493 - val_loss: 77948.1797 - val_accuracy: 0.5069\n",
      "Epoch 35/50\n",
      "735/735 [==============================] - 4s 6ms/step - loss: 0.3640 - accuracy: 0.8479 - val_loss: 265460.8750 - val_accuracy: 0.5069\n",
      "Epoch 36/50\n",
      "735/735 [==============================] - 4s 5ms/step - loss: 0.3633 - accuracy: 0.8497 - val_loss: 5917.6714 - val_accuracy: 0.4773\n",
      "Epoch 37/50\n",
      "735/735 [==============================] - 4s 6ms/step - loss: 0.3663 - accuracy: 0.8484 - val_loss: 44060.2344 - val_accuracy: 0.5069\n",
      "Epoch 38/50\n",
      "735/735 [==============================] - 5s 6ms/step - loss: 0.3653 - accuracy: 0.8484 - val_loss: 469206.8125 - val_accuracy: 0.5069\n",
      "Epoch 39/50\n",
      "735/735 [==============================] - 4s 6ms/step - loss: 0.3678 - accuracy: 0.8505 - val_loss: 1032643.5000 - val_accuracy: 0.5069\n",
      "Epoch 40/50\n",
      "735/735 [==============================] - 4s 6ms/step - loss: 0.3639 - accuracy: 0.8499 - val_loss: 381840.1562 - val_accuracy: 0.5069\n",
      "Epoch 41/50\n",
      "735/735 [==============================] - 4s 6ms/step - loss: 0.3657 - accuracy: 0.8491 - val_loss: 840327.5625 - val_accuracy: 0.5069\n",
      "Epoch 42/50\n",
      "735/735 [==============================] - 4s 6ms/step - loss: 0.3646 - accuracy: 0.8504 - val_loss: 577300.6875 - val_accuracy: 0.5069\n",
      "Epoch 43/50\n",
      "735/735 [==============================] - 4s 5ms/step - loss: 0.3670 - accuracy: 0.8475 - val_loss: 447490.0000 - val_accuracy: 0.5069\n",
      "Epoch 44/50\n",
      "735/735 [==============================] - 4s 6ms/step - loss: 0.3642 - accuracy: 0.8487 - val_loss: 69118.4766 - val_accuracy: 0.5069\n",
      "Epoch 45/50\n",
      "735/735 [==============================] - 4s 5ms/step - loss: 0.3632 - accuracy: 0.8494 - val_loss: 227780.7812 - val_accuracy: 0.5069\n",
      "Epoch 46/50\n",
      "735/735 [==============================] - 5s 7ms/step - loss: 0.3629 - accuracy: 0.8489 - val_loss: 763242.2500 - val_accuracy: 0.5069\n",
      "Epoch 47/50\n",
      "735/735 [==============================] - 6s 8ms/step - loss: 0.3666 - accuracy: 0.8496 - val_loss: 530692.8750 - val_accuracy: 0.5069\n",
      "Epoch 48/50\n",
      "735/735 [==============================] - 4s 6ms/step - loss: 0.3628 - accuracy: 0.8502 - val_loss: 418293.8438 - val_accuracy: 0.5069\n",
      "Epoch 49/50\n",
      "735/735 [==============================] - 4s 6ms/step - loss: 0.3617 - accuracy: 0.8519 - val_loss: 350442.3438 - val_accuracy: 0.5069\n",
      "Epoch 50/50\n",
      "735/735 [==============================] - 5s 7ms/step - loss: 0.3624 - accuracy: 0.8522 - val_loss: 53864.1875 - val_accuracy: 0.5069\n"
     ]
    }
   ],
   "source": [
    "epochs = 50\n",
    "model = Sequential()\n",
    "model.add(Conv1D(32, 2, activation='relu', input_shape = xTrain[0].shape))\n",
    "model.add(BatchNormalization())\n",
    "model.add(MaxPool1D(2))\n",
    "model.add(Dropout(0.2))\n",
    "\n",
    "model.add(Conv1D(64, 2, activation='relu'))\n",
    "model.add(BatchNormalization())\n",
    "model.add(MaxPool1D(2))\n",
    "model.add(Dropout(0.5))\n",
    "\n",
    "model.add(Flatten())\n",
    "model.add(Dense(64, activation='relu'))\n",
    "model.add(Dropout(0.5))\n",
    "\n",
    "model.add(Dense(1, activation='sigmoid'))\n",
    "\n",
    "model.compile(optimizer=Adam(lr=0.0001), loss = 'binary_crossentropy', metrics=['accuracy'])\n",
    "history = model.fit(xTrain, yTrain, epochs=epochs, validation_data=(xTest, yTest), verbose=1, shuffle=True)"
   ]
  },
  {
   "cell_type": "code",
   "execution_count": 32,
   "id": "eef9d69b",
   "metadata": {},
   "outputs": [
    {
     "data": {
      "image/png": "[encoded data removed]",
      "text/plain": [
       "<Figure size 432x288 with 1 Axes>"
      ]
     },
     "metadata": {
      "needs_background": "light"
     },
     "output_type": "display_data"
    },
    {
     "data": {
      "image/png": "[encoded data removed]",
      "text/plain": [
       "<Figure size 432x288 with 1 Axes>"
      ]
     },
     "metadata": {
      "needs_background": "light"
     },
     "output_type": "display_data"
    }
   ],
   "source": [
    "plot_learningCurve(history, epochs)"
   ]
  },
  {
   "cell_type": "code",
   "execution_count": null,
   "id": "49ac50c3",
   "metadata": {},
   "outputs": [],
   "source": [
    "#Saving the trained models\n",
    "pickle.dump(, open('./Trained_Models/DecisionTreemodel.pkl', 'wb'))"
   ]
  }
 ],
 "metadata": {
  "kernelspec": {
   "display_name": "Python 3 (ipykernel)",
   "language": "python",
   "name": "python3"
  },
  "language_info": {
   "codemirror_mode": {
    "name": "ipython",
    "version": 3
   },
   "file_extension": ".py",
   "mimetype": "text/x-python",
   "name": "python",
   "nbconvert_exporter": "python",
   "pygments_lexer": "ipython3",
   "version": "3.9.7"
  }
 },
 "nbformat": 4,
 "nbformat_minor": 5
}
